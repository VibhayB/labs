{
 "cells": [
  {
   "cell_type": "markdown",
   "id": "28983424",
   "metadata": {},
   "source": [
    "## 1. Installation and Exploring Features of NLTK Tools"
   ]
  },
  {
   "cell_type": "code",
   "execution_count": null,
   "id": "a577b1fa",
   "metadata": {},
   "outputs": [],
   "source": [
    "!pip install nltk"
   ]
  },
  {
   "cell_type": "code",
   "execution_count": null,
   "id": "4df4f4f5",
   "metadata": {},
   "outputs": [],
   "source": [
    "import nltk\n",
    "nltk.download('punkt')\n",
    "nltk.download('stopwords')\n",
    "nltk.download('gutenberg')"
   ]
  },
  {
   "cell_type": "markdown",
   "id": "d28a2292",
   "metadata": {},
   "source": [
    "## 2. Word, Sentence, and Paragraph Tokenizers"
   ]
  },
  {
   "cell_type": "code",
   "execution_count": null,
   "id": "6b3e7df7",
   "metadata": {},
   "outputs": [],
   "source": [
    "from nltk.tokenize import word_tokenize, sent_tokenize\n",
    "\n",
    "text = \"\"\"\n",
    "Natural Language Processing (NLP) is a field of computer science. \n",
    "It focuses on the interaction between computers and human language.\n",
    "This involves understanding, interpreting, and generating human language.\n",
    "\"\"\"\n",
    "\n",
    "word_tokens = word_tokenize(text)\n",
    "sentence_tokens = sent_tokenize(text)\n",
    "paragraph_tokens = text.split(\"\\n\")\n",
    "\n",
    "print(\"Word Tokens:\", word_tokens)\n",
    "print(\"\\nSentence Tokens:\", sentence_tokens)\n",
    "print(\"\\nParagraph Tokens:\", paragraph_tokens)"
   ]
  },
  {
   "cell_type": "markdown",
   "id": "cb8b0435",
   "metadata": {},
   "source": [
    "## 3. Corpus Word Count and Distinct Words"
   ]
  },
  {
   "cell_type": "code",
   "execution_count": null,
   "id": "14b4601b",
   "metadata": {},
   "outputs": [],
   "source": [
    "from nltk.corpus import gutenberg\n",
    "words = gutenberg.words(\"austen-emma.txt\")\n",
    "print(\"Total words in corpus:\", len(words))\n",
    "print(\"Distinct words:\", len(set(words)))"
   ]
  },
  {
   "cell_type": "markdown",
   "id": "6e8faa91",
   "metadata": {},
   "source": [
    "## 4. Removing Stop Words from Text"
   ]
  },
  {
   "cell_type": "code",
   "execution_count": null,
   "id": "9f8fa3c8",
   "metadata": {},
   "outputs": [],
   "source": [
    "from nltk.corpus import stopwords\n",
    "stop_words = set(stopwords.words(\"english\"))\n",
    "\n",
    "filtered_words = [word for word in word_tokens if word.lower() not in stop_words]\n",
    "print(\"Filtered Words (without stopwords):\", filtered_words)"
   ]
  },
  {
   "cell_type": "markdown",
   "id": "93efcf3c",
   "metadata": {},
   "source": [
    "## 5. Top 10 Frequent Words (Excluding Stopwords)"
   ]
  },
  {
   "cell_type": "code",
   "execution_count": null,
   "id": "ef8c9020",
   "metadata": {},
   "outputs": [],
   "source": [
    "from collections import Counter\n",
    "\n",
    "def top_frequent_non_stopwords(text, n=10):\n",
    "    tokens = word_tokenize(text.lower())\n",
    "    stop_words = set(stopwords.words(\"english\"))\n",
    "    filtered = [word for word in tokens if word.isalpha() and word not in stop_words]\n",
    "    freq_dist = Counter(filtered)\n",
    "    return freq_dist.most_common(n)\n",
    "\n",
    "print(top_frequent_non_stopwords(text))"
   ]
  }
 ],
 "metadata": {
  "colab": {
   "provenance": []
  },
  "kernelspec": {
   "display_name": "Python 3",
   "name": "python3"
  },
  "language_info": {
   "name": "python"
  }
 },
 "nbformat": 4,
 "nbformat_minor": 0
}
