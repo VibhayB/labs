{
  "nbformat": 4,
  "nbformat_minor": 0,
  "metadata": {
    "colab": {
      "provenance": []
    },
    "kernelspec": {
      "name": "python3",
      "display_name": "Python 3"
    },
    "language_info": {
      "name": "python"
    }
  },
  "cells": [
    {
      "cell_type": "markdown",
      "source": [
        "[Scikit Learn](https://scikit-learn.org/)"
      ],
      "metadata": {
        "id": "arY5F4w_w1cE"
      }
    },
    {
      "cell_type": "code",
      "source": [
        "from IPython.display import Markdown, display"
      ],
      "metadata": {
        "id": "jowa0HH0xIZI"
      },
      "execution_count": 1,
      "outputs": []
    },
    {
      "cell_type": "code",
      "source": [
        "display(Markdown(\"# One-Hot Encoding with Scikit-Learn\"))\n",
        "display(Markdown(\"In this notebook, we demonstrate how to use `OneHotEncoder` from Scikit-Learn to convert a list of words into one-hot encoded vectors.\"))"
      ],
      "metadata": {
        "id": "ACmSR-X1oqGH",
        "outputId": "ca07cab3-c4b5-4627-b5c4-34370cbf1fbe",
        "colab": {
          "base_uri": "https://localhost:8080/",
          "height": 101
        }
      },
      "execution_count": 2,
      "outputs": [
        {
          "output_type": "display_data",
          "data": {
            "text/plain": [
              "<IPython.core.display.Markdown object>"
            ],
            "text/markdown": "# One-Hot Encoding with Scikit-Learn"
          },
          "metadata": {}
        },
        {
          "output_type": "display_data",
          "data": {
            "text/plain": [
              "<IPython.core.display.Markdown object>"
            ],
            "text/markdown": "In this notebook, we demonstrate how to use `OneHotEncoder` from Scikit-Learn to convert a list of words into one-hot encoded vectors."
          },
          "metadata": {}
        }
      ]
    },
    {
      "cell_type": "code",
      "source": [
        "display(Markdown(\"## Step 1: Import Required Libraries\"))\n",
        "from sklearn.preprocessing import OneHotEncoder\n",
        "import numpy as np"
      ],
      "metadata": {
        "id": "Lfr5dHTuoukF",
        "outputId": "809863da-dac7-4208-e852-e5ba0f5c1f54",
        "colab": {
          "base_uri": "https://localhost:8080/",
          "height": 64
        }
      },
      "execution_count": 3,
      "outputs": [
        {
          "output_type": "display_data",
          "data": {
            "text/plain": [
              "<IPython.core.display.Markdown object>"
            ],
            "text/markdown": "## Step 1: Import Required Libraries"
          },
          "metadata": {}
        }
      ]
    },
    {
      "cell_type": "code",
      "source": [
        "display(Markdown(\"## Step 2: Define Vocabulary\"))\n",
        "vocabulary = ['Natural', 'Language', 'Processing', 'for', 'Text', 'and', 'Speech']"
      ],
      "metadata": {
        "id": "wm09_HT0xPxO",
        "colab": {
          "base_uri": "https://localhost:8080/",
          "height": 64
        },
        "outputId": "ee8f0979-3d12-4ba1-f9a2-76b4af2080ef"
      },
      "execution_count": 4,
      "outputs": [
        {
          "output_type": "display_data",
          "data": {
            "text/plain": [
              "<IPython.core.display.Markdown object>"
            ],
            "text/markdown": "## Step 2: Define Vocabulary"
          },
          "metadata": {}
        }
      ]
    },
    {
      "cell_type": "code",
      "source": [
        "display(Markdown(\"## Step 3: Reshape Vocabulary\"))\n",
        "vocabulary_reshaped = np.array(vocabulary).reshape(-1, 1)\n",
        "vocabulary_reshaped"
      ],
      "metadata": {
        "id": "DhE1_tkyxZD2",
        "colab": {
          "base_uri": "https://localhost:8080/",
          "height": 192
        },
        "outputId": "a84f7a96-f0ef-498e-b871-77e3b18ccf47"
      },
      "execution_count": 5,
      "outputs": [
        {
          "output_type": "display_data",
          "data": {
            "text/plain": [
              "<IPython.core.display.Markdown object>"
            ],
            "text/markdown": "## Step 3: Reshape Vocabulary"
          },
          "metadata": {}
        },
        {
          "output_type": "execute_result",
          "data": {
            "text/plain": [
              "array([['Natural'],\n",
              "       ['Language'],\n",
              "       ['Processing'],\n",
              "       ['for'],\n",
              "       ['Text'],\n",
              "       ['and'],\n",
              "       ['Speech']], dtype='<U10')"
            ]
          },
          "metadata": {},
          "execution_count": 5
        }
      ]
    },
    {
      "cell_type": "code",
      "source": [
        "display(Markdown(\"## Step 4: Initialize and Fit OneHotEncoder\"))\n",
        "one_hot_encoder = OneHotEncoder()\n",
        "one_hot_encoded = one_hot_encoder.fit_transform(vocabulary_reshaped)"
      ],
      "metadata": {
        "id": "gBtcqGpnxo_J",
        "colab": {
          "base_uri": "https://localhost:8080/",
          "height": 64
        },
        "outputId": "0fe8398d-f3a3-42f1-cc13-1b1c7c459859"
      },
      "execution_count": 6,
      "outputs": [
        {
          "output_type": "display_data",
          "data": {
            "text/plain": [
              "<IPython.core.display.Markdown object>"
            ],
            "text/markdown": "## Step 4: Initialize and Fit OneHotEncoder"
          },
          "metadata": {}
        }
      ]
    },
    {
      "cell_type": "code",
      "source": [
        "display(Markdown(\"## Step 5: View One-Hot Encoded Vectors\"))\n",
        "one_hot_encoded"
      ],
      "metadata": {
        "colab": {
          "base_uri": "https://localhost:8080/",
          "height": 101
        },
        "id": "ThqcLeC3xwkK",
        "outputId": "9c9022eb-21de-41d4-8ede-753329034869"
      },
      "execution_count": 8,
      "outputs": [
        {
          "output_type": "display_data",
          "data": {
            "text/plain": [
              "<IPython.core.display.Markdown object>"
            ],
            "text/markdown": "## Step 5: View One-Hot Encoded Vectors"
          },
          "metadata": {}
        },
        {
          "output_type": "execute_result",
          "data": {
            "text/plain": [
              "<Compressed Sparse Row sparse matrix of dtype 'float64'\n",
              "\twith 7 stored elements and shape (7, 7)>"
            ]
          },
          "metadata": {},
          "execution_count": 8
        }
      ]
    },
    {
      "cell_type": "code",
      "source": [
        "display(Markdown(\"## Step 6: Display Word-Vector Pairs\"))\n",
        "for word, vector in zip(vocabulary, one_hot_encoded):\n",
        "    print(word, vector)"
      ],
      "metadata": {
        "colab": {
          "base_uri": "https://localhost:8080/",
          "height": 573
        },
        "id": "LG6HxgPKxx1w",
        "outputId": "b1132e6f-1792-4d66-aff1-a4754ad01c7a"
      },
      "execution_count": 9,
      "outputs": [
        {
          "output_type": "display_data",
          "data": {
            "text/plain": [
              "<IPython.core.display.Markdown object>"
            ],
            "text/markdown": "## Step 6: Display Word-Vector Pairs"
          },
          "metadata": {}
        },
        {
          "output_type": "stream",
          "name": "stdout",
          "text": [
            "Natural <Compressed Sparse Row sparse matrix of dtype 'float64'\n",
            "\twith 1 stored elements and shape (1, 7)>\n",
            "  Coords\tValues\n",
            "  (0, 1)\t1.0\n",
            "Language <Compressed Sparse Row sparse matrix of dtype 'float64'\n",
            "\twith 1 stored elements and shape (1, 7)>\n",
            "  Coords\tValues\n",
            "  (0, 0)\t1.0\n",
            "Processing <Compressed Sparse Row sparse matrix of dtype 'float64'\n",
            "\twith 1 stored elements and shape (1, 7)>\n",
            "  Coords\tValues\n",
            "  (0, 2)\t1.0\n",
            "for <Compressed Sparse Row sparse matrix of dtype 'float64'\n",
            "\twith 1 stored elements and shape (1, 7)>\n",
            "  Coords\tValues\n",
            "  (0, 6)\t1.0\n",
            "Text <Compressed Sparse Row sparse matrix of dtype 'float64'\n",
            "\twith 1 stored elements and shape (1, 7)>\n",
            "  Coords\tValues\n",
            "  (0, 4)\t1.0\n",
            "and <Compressed Sparse Row sparse matrix of dtype 'float64'\n",
            "\twith 1 stored elements and shape (1, 7)>\n",
            "  Coords\tValues\n",
            "  (0, 5)\t1.0\n",
            "Speech <Compressed Sparse Row sparse matrix of dtype 'float64'\n",
            "\twith 1 stored elements and shape (1, 7)>\n",
            "  Coords\tValues\n",
            "  (0, 3)\t1.0\n"
          ]
        }
      ]
    }
  ]
}