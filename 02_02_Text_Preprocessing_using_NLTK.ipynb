{
  "nbformat": 4,
  "nbformat_minor": 0,
  "metadata": {
    "colab": {
      "provenance": []
    },
    "kernelspec": {
      "name": "python3",
      "display_name": "Python 3"
    },
    "language_info": {
      "name": "python"
    }
  },
  "cells": [
    {
      "cell_type": "markdown",
      "source": [
        "[NLTK Library](https://www.nltk.org/)"
      ],
      "metadata": {
        "id": "Qa53cYI0yyMz"
      }
    },
    {
      "cell_type": "markdown",
      "source": [
        "## Downloading Required Resources"
      ],
      "metadata": {
        "id": "ZIhZ3fu_9lrN"
      }
    },
    {
      "cell_type": "code",
      "source": [
        "import nltk\n",
        "nltk.download('punkt')\n",
        "nltk.download('punkt_tab')"
      ],
      "metadata": {
        "id": "BIceVBjn9xj0",
        "colab": {
          "base_uri": "https://localhost:8080/"
        },
        "outputId": "ef31929e-53fd-47f7-c055-c70ed9b439d0"
      },
      "execution_count": 7,
      "outputs": [
        {
          "output_type": "stream",
          "name": "stderr",
          "text": [
            "[nltk_data] Downloading package punkt to /root/nltk_data...\n",
            "[nltk_data]   Package punkt is already up-to-date!\n",
            "[nltk_data] Downloading package punkt_tab to /root/nltk_data...\n",
            "[nltk_data]   Unzipping tokenizers/punkt_tab.zip.\n"
          ]
        },
        {
          "output_type": "execute_result",
          "data": {
            "text/plain": [
              "True"
            ]
          },
          "metadata": {},
          "execution_count": 7
        }
      ]
    },
    {
      "cell_type": "markdown",
      "source": [
        "## Tokenization: Word Tokenizer"
      ],
      "metadata": {
        "id": "N_vWi5dt-Cj9"
      }
    },
    {
      "cell_type": "code",
      "source": [
        "sentence = \"Natural Language Processing, for speech and text.\"\n",
        "from nltk.tokenize import word_tokenize\n",
        "tokens = word_tokenize(sentence)\n",
        "tokens"
      ],
      "metadata": {
        "id": "Hm8muR8D93kL",
        "colab": {
          "base_uri": "https://localhost:8080/"
        },
        "outputId": "d90e1262-2474-4868-f183-8d941754bfc2"
      },
      "execution_count": 8,
      "outputs": [
        {
          "output_type": "execute_result",
          "data": {
            "text/plain": [
              "['Natural', 'Language', 'Processing', ',', 'for', 'speech', 'and', 'text', '.']"
            ]
          },
          "metadata": {},
          "execution_count": 8
        }
      ]
    },
    {
      "cell_type": "markdown",
      "source": [
        "## Tokenization: Custom Regex Tokenizer (Using Gaps)"
      ],
      "metadata": {
        "id": "EPT-39l2-sqv"
      }
    },
    {
      "cell_type": "code",
      "source": [
        "from nltk.tokenize import RegexpTokenizer\n",
        "tokenizer = RegexpTokenizer(r'\\s+', gaps=True)\n",
        "tokens = tokenizer.tokenize(sentence)\n",
        "tokens"
      ],
      "metadata": {
        "colab": {
          "base_uri": "https://localhost:8080/"
        },
        "id": "1R6adV1D-Wc2",
        "outputId": "8ba1651d-7e2f-4abd-e0d5-dafe0054a28b"
      },
      "execution_count": 9,
      "outputs": [
        {
          "output_type": "execute_result",
          "data": {
            "text/plain": [
              "['Natural', 'Language', 'Processing,', 'for', 'speech', 'and', 'text.']"
            ]
          },
          "metadata": {},
          "execution_count": 9
        }
      ]
    },
    {
      "cell_type": "markdown",
      "source": [
        "## Tokenization: Sentence Tokenizer"
      ],
      "metadata": {
        "id": "cAox1uvK-zsA"
      }
    },
    {
      "cell_type": "code",
      "source": [
        "from nltk.tokenize import sent_tokenize\n",
        "sentences = sent_tokenize(sentence)\n",
        "sentences"
      ],
      "metadata": {
        "colab": {
          "base_uri": "https://localhost:8080/"
        },
        "id": "VwtU6GNp-q_H",
        "outputId": "2732733e-af4c-4a37-acf4-4d7e27b8fff6"
      },
      "execution_count": 10,
      "outputs": [
        {
          "output_type": "execute_result",
          "data": {
            "text/plain": [
              "['Natural Language Processing, for speech and text.']"
            ]
          },
          "metadata": {},
          "execution_count": 10
        }
      ]
    },
    {
      "cell_type": "markdown",
      "source": [
        "## Stemming with Porter Stemmer"
      ],
      "metadata": {
        "id": "UmjVIip7-9kt"
      }
    },
    {
      "cell_type": "code",
      "source": [
        "from nltk.stem import PorterStemmer\n",
        "words = ['processed', 'processing', 'processes', 'preprocessed']\n",
        "stemmer = PorterStemmer()\n",
        "stems = [stemmer.stem(word) for word in words]\n",
        "stems"
      ],
      "metadata": {
        "id": "ELdgU419-uTr",
        "colab": {
          "base_uri": "https://localhost:8080/"
        },
        "outputId": "f1e07851-a697-4925-a1f7-796f95e2a03e"
      },
      "execution_count": 11,
      "outputs": [
        {
          "output_type": "execute_result",
          "data": {
            "text/plain": [
              "['process', 'process', 'process', 'preprocess']"
            ]
          },
          "metadata": {},
          "execution_count": 11
        }
      ]
    },
    {
      "cell_type": "markdown",
      "source": [
        "## Lemmatization with WordNet Lemmatizer (Verb)"
      ],
      "metadata": {
        "id": "tjgHZiuc_C1w"
      }
    },
    {
      "cell_type": "code",
      "source": [
        "from nltk.stem import WordNetLemmatizer\n",
        "from nltk.corpus import wordnet\n",
        "nltk.download('wordnet')\n",
        "words = [\"beginning\", \"began\", \"begun\", \"begins\"]\n",
        "lemmatizer = WordNetLemmatizer()\n",
        "lemmas = [lemmatizer.lemmatize(word, pos=wordnet.VERB) for word in words]\n",
        "lemmas"
      ],
      "metadata": {
        "colab": {
          "base_uri": "https://localhost:8080/"
        },
        "id": "dN79iwag_AsH",
        "outputId": "89ee3bff-4c6e-4784-8ddc-c2d01d4daaa0"
      },
      "execution_count": 12,
      "outputs": [
        {
          "output_type": "stream",
          "name": "stderr",
          "text": [
            "[nltk_data] Downloading package wordnet to /root/nltk_data...\n"
          ]
        },
        {
          "output_type": "execute_result",
          "data": {
            "text/plain": [
              "['begin', 'begin', 'begin', 'begin']"
            ]
          },
          "metadata": {},
          "execution_count": 12
        }
      ]
    },
    {
      "cell_type": "code",
      "source": [
        "lemmas = [lemmatizer.lemmatize(word,pos=wordnet.NOUN) for word in words]\n",
        "lemmas"
      ],
      "metadata": {
        "colab": {
          "base_uri": "https://localhost:8080/"
        },
        "id": "em49CQV8_fYs",
        "outputId": "9aa03972-88e1-4c36-b245-421922abfa4c"
      },
      "execution_count": 13,
      "outputs": [
        {
          "output_type": "execute_result",
          "data": {
            "text/plain": [
              "['beginning', 'began', 'begun', 'begin']"
            ]
          },
          "metadata": {},
          "execution_count": 13
        }
      ]
    }
  ]
}