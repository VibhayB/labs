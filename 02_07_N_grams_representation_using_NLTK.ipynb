{
  "nbformat": 4,
  "nbformat_minor": 0,
  "metadata": {
    "colab": {
      "provenance": []
    },
    "kernelspec": {
      "name": "python3",
      "display_name": "Python 3"
    },
    "language_info": {
      "name": "python"
    }
  },
  "cells": [
    {
      "cell_type": "code",
      "execution_count": 14,
      "metadata": {
        "id": "dt9GgWjCCws_"
      },
      "outputs": [],
      "source": [
        "from IPython.display import Markdown, display"
      ]
    },
    {
      "cell_type": "code",
      "source": [
        "display(Markdown(\"# Generating N-grams using NLTK\"))"
      ],
      "metadata": {
        "id": "uK1nKRvjpVGd",
        "outputId": "ae4704a3-edce-4353-918d-912143ab0909",
        "colab": {
          "base_uri": "https://localhost:8080/",
          "height": 74
        }
      },
      "execution_count": 15,
      "outputs": [
        {
          "output_type": "display_data",
          "data": {
            "text/plain": [
              "<IPython.core.display.Markdown object>"
            ],
            "text/markdown": "# Generating N-grams using NLTK"
          },
          "metadata": {}
        }
      ]
    },
    {
      "cell_type": "code",
      "source": [
        "display(Markdown(\"In this example, we demonstrate how to generate unigrams, bigrams, and trigrams from a sentence using NLTK.\"))"
      ],
      "metadata": {
        "id": "mEgkJosYpWqR",
        "outputId": "6a5914a1-c3dc-407d-8735-13ceb6bf728f",
        "colab": {
          "base_uri": "https://localhost:8080/",
          "height": 46
        }
      },
      "execution_count": 16,
      "outputs": [
        {
          "output_type": "display_data",
          "data": {
            "text/plain": [
              "<IPython.core.display.Markdown object>"
            ],
            "text/markdown": "In this example, we demonstrate how to generate unigrams, bigrams, and trigrams from a sentence using NLTK."
          },
          "metadata": {}
        }
      ]
    },
    {
      "cell_type": "code",
      "source": [
        "display(Markdown(\"## Step 1: Import Required Libraries\"))\n",
        "import nltk\n",
        "from nltk.util import ngrams"
      ],
      "metadata": {
        "id": "nWz1nEn7pY9Q",
        "outputId": "5fae9fb0-98fa-4641-bccc-2ae4ec2d186f",
        "colab": {
          "base_uri": "https://localhost:8080/",
          "height": 64
        }
      },
      "execution_count": 17,
      "outputs": [
        {
          "output_type": "display_data",
          "data": {
            "text/plain": [
              "<IPython.core.display.Markdown object>"
            ],
            "text/markdown": "## Step 1: Import Required Libraries"
          },
          "metadata": {}
        }
      ]
    },
    {
      "cell_type": "code",
      "source": [
        "display(Markdown(\"## Step 2: Define Input Sentence\"))\n",
        "sentence = \"Natural Language Processing for Speech and Text data.\""
      ],
      "metadata": {
        "id": "8g1yTEpHNuzD",
        "colab": {
          "base_uri": "https://localhost:8080/",
          "height": 64
        },
        "outputId": "fd5a1492-d1c6-45b6-9a72-709a854d1b7d"
      },
      "execution_count": 18,
      "outputs": [
        {
          "output_type": "display_data",
          "data": {
            "text/plain": [
              "<IPython.core.display.Markdown object>"
            ],
            "text/markdown": "## Step 2: Define Input Sentence"
          },
          "metadata": {}
        }
      ]
    },
    {
      "cell_type": "code",
      "source": [
        "display(Markdown(\"## Step 3: Download Tokenizer Resources (punkt)\"))\n",
        "nltk.download('punkt')\n",
        "nltk.download('punkt_tab')"
      ],
      "metadata": {
        "colab": {
          "base_uri": "https://localhost:8080/",
          "height": 155
        },
        "id": "2CW20V70OBha",
        "outputId": "32158a2f-bb26-449e-80df-c629f55153ab"
      },
      "execution_count": 23,
      "outputs": [
        {
          "output_type": "display_data",
          "data": {
            "text/plain": [
              "<IPython.core.display.Markdown object>"
            ],
            "text/markdown": "## Step 3: Download Tokenizer Resources (punkt)"
          },
          "metadata": {}
        },
        {
          "output_type": "stream",
          "name": "stderr",
          "text": [
            "[nltk_data] Downloading package punkt to /root/nltk_data...\n",
            "[nltk_data]   Package punkt is already up-to-date!\n",
            "[nltk_data] Downloading package punkt_tab to /root/nltk_data...\n",
            "[nltk_data]   Unzipping tokenizers/punkt_tab.zip.\n"
          ]
        },
        {
          "output_type": "execute_result",
          "data": {
            "text/plain": [
              "True"
            ]
          },
          "metadata": {},
          "execution_count": 23
        }
      ]
    },
    {
      "cell_type": "code",
      "source": [
        "display(Markdown(\"## Step 4: Tokenize Sentence into Words\"))\n",
        "words = nltk.word_tokenize(sentence)\n",
        "words"
      ],
      "metadata": {
        "colab": {
          "base_uri": "https://localhost:8080/",
          "height": 228
        },
        "id": "GY5biuyHN1-D",
        "outputId": "f12e2299-9fcb-494f-a068-a124d7352c15"
      },
      "execution_count": 24,
      "outputs": [
        {
          "output_type": "display_data",
          "data": {
            "text/plain": [
              "<IPython.core.display.Markdown object>"
            ],
            "text/markdown": "## Step 4: Tokenize Sentence into Words"
          },
          "metadata": {}
        },
        {
          "output_type": "execute_result",
          "data": {
            "text/plain": [
              "['Natural',\n",
              " 'Language',\n",
              " 'Processing',\n",
              " 'for',\n",
              " 'Speech',\n",
              " 'and',\n",
              " 'Text',\n",
              " 'data',\n",
              " '.']"
            ]
          },
          "metadata": {},
          "execution_count": 24
        }
      ]
    },
    {
      "cell_type": "code",
      "source": [
        "display(Markdown(\"## Step 5: Generate Unigrams (1-grams)\"))\n",
        "list(ngrams(words, 1))"
      ],
      "metadata": {
        "colab": {
          "base_uri": "https://localhost:8080/",
          "height": 228
        },
        "id": "FSghPj8sN6q7",
        "outputId": "8eca0ddd-8fbd-4943-fa9c-47c2330a785a"
      },
      "execution_count": 25,
      "outputs": [
        {
          "output_type": "display_data",
          "data": {
            "text/plain": [
              "<IPython.core.display.Markdown object>"
            ],
            "text/markdown": "## Step 5: Generate Unigrams (1-grams)"
          },
          "metadata": {}
        },
        {
          "output_type": "execute_result",
          "data": {
            "text/plain": [
              "[('Natural',),\n",
              " ('Language',),\n",
              " ('Processing',),\n",
              " ('for',),\n",
              " ('Speech',),\n",
              " ('and',),\n",
              " ('Text',),\n",
              " ('data',),\n",
              " ('.',)]"
            ]
          },
          "metadata": {},
          "execution_count": 25
        }
      ]
    },
    {
      "cell_type": "code",
      "source": [
        "display(Markdown(\"## Step 6: Tuple Type Check\"))\n",
        "type(('Natural',))"
      ],
      "metadata": {
        "colab": {
          "base_uri": "https://localhost:8080/",
          "height": 83
        },
        "id": "P8uKJ4-DOOXA",
        "outputId": "5474971f-8cfc-43de-aea8-975c40741e45"
      },
      "execution_count": 26,
      "outputs": [
        {
          "output_type": "display_data",
          "data": {
            "text/plain": [
              "<IPython.core.display.Markdown object>"
            ],
            "text/markdown": "## Step 6: Tuple Type Check"
          },
          "metadata": {}
        },
        {
          "output_type": "execute_result",
          "data": {
            "text/plain": [
              "tuple"
            ]
          },
          "metadata": {},
          "execution_count": 26
        }
      ]
    },
    {
      "cell_type": "code",
      "source": [
        "display(Markdown(\"## Step 7: Generate Bigrams (2-grams)\"))\n",
        "list(ngrams(words, 2))"
      ],
      "metadata": {
        "colab": {
          "base_uri": "https://localhost:8080/",
          "height": 210
        },
        "id": "TavaldlfOXuc",
        "outputId": "698b6faa-b744-4426-b688-b5feda10d417"
      },
      "execution_count": 27,
      "outputs": [
        {
          "output_type": "display_data",
          "data": {
            "text/plain": [
              "<IPython.core.display.Markdown object>"
            ],
            "text/markdown": "## Step 7: Generate Bigrams (2-grams)"
          },
          "metadata": {}
        },
        {
          "output_type": "execute_result",
          "data": {
            "text/plain": [
              "[('Natural', 'Language'),\n",
              " ('Language', 'Processing'),\n",
              " ('Processing', 'for'),\n",
              " ('for', 'Speech'),\n",
              " ('Speech', 'and'),\n",
              " ('and', 'Text'),\n",
              " ('Text', 'data'),\n",
              " ('data', '.')]"
            ]
          },
          "metadata": {},
          "execution_count": 27
        }
      ]
    },
    {
      "cell_type": "code",
      "source": [
        "display(Markdown(\"## Step 8: Generate Trigrams (3-grams)\"))\n",
        "trigrams = list(ngrams(words, 3))\n",
        "trigrams"
      ],
      "metadata": {
        "id": "_YBBYXn4ObVF",
        "outputId": "2cbb4c6a-5a88-4157-cf1f-0b9e0ab70982",
        "colab": {
          "base_uri": "https://localhost:8080/",
          "height": 192
        }
      },
      "execution_count": 28,
      "outputs": [
        {
          "output_type": "display_data",
          "data": {
            "text/plain": [
              "<IPython.core.display.Markdown object>"
            ],
            "text/markdown": "## Step 8: Generate Trigrams (3-grams)"
          },
          "metadata": {}
        },
        {
          "output_type": "execute_result",
          "data": {
            "text/plain": [
              "[('Natural', 'Language', 'Processing'),\n",
              " ('Language', 'Processing', 'for'),\n",
              " ('Processing', 'for', 'Speech'),\n",
              " ('for', 'Speech', 'and'),\n",
              " ('Speech', 'and', 'Text'),\n",
              " ('and', 'Text', 'data'),\n",
              " ('Text', 'data', '.')]"
            ]
          },
          "metadata": {},
          "execution_count": 28
        }
      ]
    }
  ]
}