{
  "nbformat": 4,
  "nbformat_minor": 0,
  "metadata": {
    "colab": {
      "provenance": []
    },
    "kernelspec": {
      "name": "python3",
      "display_name": "Python 3"
    },
    "language_info": {
      "name": "python"
    }
  },
  "cells": [
    {
      "cell_type": "markdown",
      "source": [
        "[Scikit Learn](https://scikit-learn.org/)"
      ],
      "metadata": {
        "id": "UY5GHj2eZMg5"
      }
    },
    {
      "cell_type": "code",
      "source": [
        "from IPython.display import Markdown, display\n",
        "from sklearn.feature_extraction.text import TfidfVectorizer"
      ],
      "metadata": {
        "id": "Im4Uij_AZwMK"
      },
      "execution_count": 1,
      "outputs": []
    },
    {
      "cell_type": "code",
      "source": [
        "display(Markdown(\"# Scikit Learn - TF-IDF Vectorizer Example\"))\n",
        "display(Markdown(\"## Corpus Input\"))"
      ],
      "metadata": {
        "id": "PwF5-jHEaL--",
        "colab": {
          "base_uri": "https://localhost:8080/",
          "height": 118
        },
        "outputId": "a5c271ab-b4f0-4706-dbec-a4a7b871191b"
      },
      "execution_count": 2,
      "outputs": [
        {
          "output_type": "display_data",
          "data": {
            "text/plain": [
              "<IPython.core.display.Markdown object>"
            ],
            "text/markdown": "# Scikit Learn - TF-IDF Vectorizer Example"
          },
          "metadata": {}
        },
        {
          "output_type": "display_data",
          "data": {
            "text/plain": [
              "<IPython.core.display.Markdown object>"
            ],
            "text/markdown": "## Corpus Input"
          },
          "metadata": {}
        }
      ]
    },
    {
      "cell_type": "code",
      "source": [
        "corpus = [\n",
        "    \"Natural Language Processing for Speech and Text​\",\n",
        "    \"Language Processing for Natural Speech and Text​\",\n",
        "    \"Text and Speech for Natural Language Processing​\"\n",
        "]"
      ],
      "metadata": {
        "id": "gkVEMm6js2tY"
      },
      "execution_count": 3,
      "outputs": []
    },
    {
      "cell_type": "code",
      "source": [
        "display(Markdown(\"## Initialize TfidfVectorizer and Fit\"))\n",
        "vectorizer = TfidfVectorizer()\n",
        "X = vectorizer.fit_transform(corpus)"
      ],
      "metadata": {
        "id": "DDloU3ZlaNfV",
        "colab": {
          "base_uri": "https://localhost:8080/",
          "height": 64
        },
        "outputId": "dead067b-286b-4000-c2fc-3458abfa1652"
      },
      "execution_count": 4,
      "outputs": [
        {
          "output_type": "display_data",
          "data": {
            "text/plain": [
              "<IPython.core.display.Markdown object>"
            ],
            "text/markdown": "## Initialize TfidfVectorizer and Fit"
          },
          "metadata": {}
        }
      ]
    },
    {
      "cell_type": "code",
      "source": [
        "display(Markdown(\"## Vocabulary Generated\"))\n",
        "vectorizer.get_feature_names_out()"
      ],
      "metadata": {
        "colab": {
          "base_uri": "https://localhost:8080/",
          "height": 101
        },
        "id": "0vibehYDaTRL",
        "outputId": "2335dc23-f046-4e10-912a-1d739cde13d3"
      },
      "execution_count": 5,
      "outputs": [
        {
          "output_type": "display_data",
          "data": {
            "text/plain": [
              "<IPython.core.display.Markdown object>"
            ],
            "text/markdown": "## Vocabulary Generated"
          },
          "metadata": {}
        },
        {
          "output_type": "execute_result",
          "data": {
            "text/plain": [
              "array(['and', 'for', 'language', 'natural', 'processing', 'speech',\n",
              "       'text'], dtype=object)"
            ]
          },
          "metadata": {},
          "execution_count": 5
        }
      ]
    },
    {
      "cell_type": "code",
      "source": [
        "display(Markdown(\"## Dense Matrix Output (TF-IDF Scores)\"))\n",
        "X.toarray()"
      ],
      "metadata": {
        "id": "BjPwM0EMaZQn",
        "outputId": "6fd09da9-70be-4ed7-b968-969ae3da6715",
        "colab": {
          "base_uri": "https://localhost:8080/",
          "height": 173
        }
      },
      "execution_count": 6,
      "outputs": [
        {
          "output_type": "display_data",
          "data": {
            "text/plain": [
              "<IPython.core.display.Markdown object>"
            ],
            "text/markdown": "## Dense Matrix Output (TF-IDF Scores)"
          },
          "metadata": {}
        },
        {
          "output_type": "execute_result",
          "data": {
            "text/plain": [
              "array([[0.37796447, 0.37796447, 0.37796447, 0.37796447, 0.37796447,\n",
              "        0.37796447, 0.37796447],\n",
              "       [0.37796447, 0.37796447, 0.37796447, 0.37796447, 0.37796447,\n",
              "        0.37796447, 0.37796447],\n",
              "       [0.37796447, 0.37796447, 0.37796447, 0.37796447, 0.37796447,\n",
              "        0.37796447, 0.37796447]])"
            ]
          },
          "metadata": {},
          "execution_count": 6
        }
      ]
    }
  ]
}