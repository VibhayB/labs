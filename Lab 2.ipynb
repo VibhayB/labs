{
  "cells": [
    {
      "cell_type": "markdown",
      "id": "61f797d4",
      "metadata": {
        "id": "61f797d4"
      },
      "source": [
        "# Lab#2: Python Regular Expressions\n",
        "\n",
        "This notebook contains a series of exercises related to regular expressions in Python. Each exercise demonstrates the use of regular expressions for string matching and searching."
      ]
    },
    {
      "cell_type": "markdown",
      "id": "2fb5f275",
      "metadata": {
        "id": "2fb5f275"
      },
      "source": [
        "## Exercise 1: Check if a string contains only a certain set of characters (a-z, A-Z, 0-9)"
      ]
    },
    {
      "cell_type": "code",
      "execution_count": 1,
      "id": "75213905",
      "metadata": {
        "id": "75213905",
        "outputId": "c26f72bc-14e8-4996-fdd5-8546bfb8a60a",
        "colab": {
          "base_uri": "https://localhost:8080/"
        }
      },
      "outputs": [
        {
          "output_type": "stream",
          "name": "stdout",
          "text": [
            "True\n",
            "False\n"
          ]
        }
      ],
      "source": [
        "import re\n",
        "\n",
        "def check_string(input_string):\n",
        "    pattern = r'^[a-zA-Z0-9]+$'\n",
        "    if re.match(pattern, input_string):\n",
        "        return True\n",
        "    return False\n",
        "\n",
        "# Example usage\n",
        "print(check_string(\"Hello123\"))  # True\n",
        "print(check_string(\"Hello!123\"))  # False"
      ]
    },
    {
      "cell_type": "markdown",
      "id": "9d8b706d",
      "metadata": {
        "id": "9d8b706d"
      },
      "source": [
        "## Exercise 2: Match a string that has an 'a' followed by zero or more 'b's"
      ]
    },
    {
      "cell_type": "code",
      "execution_count": 2,
      "id": "9479d1a8",
      "metadata": {
        "id": "9479d1a8",
        "outputId": "f5642d51-7485-41ce-9f91-7ab5ad418381",
        "colab": {
          "base_uri": "https://localhost:8080/"
        }
      },
      "outputs": [
        {
          "output_type": "stream",
          "name": "stdout",
          "text": [
            "True\n",
            "True\n",
            "True\n"
          ]
        }
      ],
      "source": [
        "def match_a_b(input_string):\n",
        "    pattern = r'ab*'\n",
        "    if re.match(pattern, input_string):\n",
        "        return True\n",
        "    return False\n",
        "\n",
        "# Example usage\n",
        "print(match_a_b(\"abbbb\"))  # True\n",
        "print(match_a_b(\"a\"))  # True\n",
        "print(match_a_b(\"ac\"))  # False"
      ]
    },
    {
      "cell_type": "markdown",
      "id": "2625a381",
      "metadata": {
        "id": "2625a381"
      },
      "source": [
        "## Exercise 3: Match a string that has an 'a' followed by one or more 'b's"
      ]
    },
    {
      "cell_type": "code",
      "execution_count": 3,
      "id": "f901b22a",
      "metadata": {
        "id": "f901b22a",
        "outputId": "74832fbf-db3e-4d1d-92d6-cc5ba21e0a18",
        "colab": {
          "base_uri": "https://localhost:8080/"
        }
      },
      "outputs": [
        {
          "output_type": "stream",
          "name": "stdout",
          "text": [
            "True\n",
            "False\n",
            "True\n"
          ]
        }
      ],
      "source": [
        "def match_one_or_more_b(input_string):\n",
        "    pattern = r'ab+'\n",
        "    if re.match(pattern, input_string):\n",
        "        return True\n",
        "    return False\n",
        "\n",
        "# Example usage\n",
        "print(match_one_or_more_b(\"abbbb\"))  # True\n",
        "print(match_one_or_more_b(\"a\"))  # False\n",
        "print(match_one_or_more_b(\"ab\"))  # True"
      ]
    },
    {
      "cell_type": "markdown",
      "id": "94346c2b",
      "metadata": {
        "id": "94346c2b"
      },
      "source": [
        "## Exercise 4: Match a string that has an 'a' followed by zero or one 'b'"
      ]
    },
    {
      "cell_type": "code",
      "execution_count": 4,
      "id": "c197015b",
      "metadata": {
        "id": "c197015b",
        "outputId": "d8e8c547-1c75-424f-daf9-cc1914101a61",
        "colab": {
          "base_uri": "https://localhost:8080/"
        }
      },
      "outputs": [
        {
          "output_type": "stream",
          "name": "stdout",
          "text": [
            "True\n",
            "True\n",
            "True\n"
          ]
        }
      ],
      "source": [
        "def match_zero_or_one_b(input_string):\n",
        "    pattern = r'ab?'\n",
        "    if re.match(pattern, input_string):\n",
        "        return True\n",
        "    return False\n",
        "\n",
        "# Example usage\n",
        "print(match_zero_or_one_b(\"ab\"))  # True\n",
        "print(match_zero_or_one_b(\"a\"))  # True\n",
        "print(match_zero_or_one_b(\"abb\"))  # False"
      ]
    },
    {
      "cell_type": "markdown",
      "id": "602dea89",
      "metadata": {
        "id": "602dea89"
      },
      "source": [
        "## Exercise 5: Match a string that has an 'a' followed by three 'b's"
      ]
    },
    {
      "cell_type": "code",
      "execution_count": 5,
      "id": "0fee93d2",
      "metadata": {
        "id": "0fee93d2",
        "outputId": "5b569a7b-2c3b-497f-c2d1-ae043c8e58f5",
        "colab": {
          "base_uri": "https://localhost:8080/"
        }
      },
      "outputs": [
        {
          "output_type": "stream",
          "name": "stdout",
          "text": [
            "True\n",
            "False\n",
            "True\n"
          ]
        }
      ],
      "source": [
        "def match_three_b(input_string):\n",
        "    pattern = r'ab{3}'\n",
        "    if re.match(pattern, input_string):\n",
        "        return True\n",
        "    return False\n",
        "\n",
        "# Example usage\n",
        "print(match_three_b(\"abbb\"))  # True\n",
        "print(match_three_b(\"ab\"))  # False\n",
        "print(match_three_b(\"abbbbb\"))  # False"
      ]
    },
    {
      "cell_type": "markdown",
      "id": "9317e99f",
      "metadata": {
        "id": "9317e99f"
      },
      "source": [
        "## Exercise 6: Match a string that has an 'a' followed by two to three 'b's"
      ]
    },
    {
      "cell_type": "code",
      "execution_count": 6,
      "id": "0e7721ac",
      "metadata": {
        "id": "0e7721ac",
        "outputId": "468b2946-60f7-4a96-d290-c6cfe9599baa",
        "colab": {
          "base_uri": "https://localhost:8080/"
        }
      },
      "outputs": [
        {
          "output_type": "stream",
          "name": "stdout",
          "text": [
            "True\n",
            "True\n",
            "True\n"
          ]
        }
      ],
      "source": [
        "def match_two_to_three_b(input_string):\n",
        "    pattern = r'ab{2,3}'\n",
        "    if re.match(pattern, input_string):\n",
        "        return True\n",
        "    return False\n",
        "\n",
        "# Example usage\n",
        "print(match_two_to_three_b(\"abb\"))  # True\n",
        "print(match_two_to_three_b(\"abbb\"))  # True\n",
        "print(match_two_to_three_b(\"abbbbb\"))  # False"
      ]
    },
    {
      "cell_type": "markdown",
      "id": "540f268d",
      "metadata": {
        "id": "540f268d"
      },
      "source": [
        "## Exercise 7: Find sequences of lowercase letters joined by an underscore"
      ]
    },
    {
      "cell_type": "code",
      "execution_count": 7,
      "id": "0369d2f6",
      "metadata": {
        "id": "0369d2f6",
        "outputId": "2c886fc0-9694-42ff-ea42-adfab0c43a19",
        "colab": {
          "base_uri": "https://localhost:8080/"
        }
      },
      "outputs": [
        {
          "output_type": "stream",
          "name": "stdout",
          "text": [
            "['_test']\n",
            "['_underscores']\n"
          ]
        }
      ],
      "source": [
        "def match_lowercase_underscore(input_string):\n",
        "    pattern = r'[a-z]+(_[a-z]+)+'\n",
        "    return re.findall(pattern, input_string)\n",
        "\n",
        "# Example usage\n",
        "print(match_lowercase_underscore(\"this_is_a_test\"))  # ['this_is_a_test']\n",
        "print(match_lowercase_underscore(\"no_underscores\"))  # ['no_underscores']"
      ]
    },
    {
      "cell_type": "markdown",
      "id": "6f093ebb",
      "metadata": {
        "id": "6f093ebb"
      },
      "source": [
        "## Exercise 8: Find sequences of one uppercase letter followed by lowercase letters"
      ]
    },
    {
      "cell_type": "code",
      "execution_count": 8,
      "id": "7dcfd9fb",
      "metadata": {
        "id": "7dcfd9fb",
        "outputId": "5f8907c2-8b29-4365-9333-f92345a15227",
        "colab": {
          "base_uri": "https://localhost:8080/"
        }
      },
      "outputs": [
        {
          "output_type": "stream",
          "name": "stdout",
          "text": [
            "['Hello', 'World']\n"
          ]
        }
      ],
      "source": [
        "def match_upper_lowercase(input_string):\n",
        "    pattern = r'[A-Z][a-z]+'\n",
        "    return re.findall(pattern, input_string)\n",
        "\n",
        "# Example usage\n",
        "print(match_upper_lowercase(\"Hello World\"))  # ['Hello', 'World']"
      ]
    },
    {
      "cell_type": "markdown",
      "id": "f2de5a96",
      "metadata": {
        "id": "f2de5a96"
      },
      "source": [
        "## Exercise 9: Match a string that has an 'a' followed by anything ending in 'b'"
      ]
    },
    {
      "cell_type": "code",
      "execution_count": 9,
      "id": "25fac07c",
      "metadata": {
        "id": "25fac07c",
        "outputId": "28dcc580-2b6e-434c-adf5-92391153e4cf",
        "colab": {
          "base_uri": "https://localhost:8080/"
        }
      },
      "outputs": [
        {
          "output_type": "stream",
          "name": "stdout",
          "text": [
            "True\n",
            "False\n"
          ]
        }
      ],
      "source": [
        "def match_a_to_b(input_string):\n",
        "    pattern = r'a.*b$'\n",
        "    if re.match(pattern, input_string):\n",
        "        return True\n",
        "    return False\n",
        "\n",
        "# Example usage\n",
        "print(match_a_to_b(\"a...b\"))  # True\n",
        "print(match_a_to_b(\"a...c\"))  # False"
      ]
    },
    {
      "cell_type": "markdown",
      "id": "247be3e9",
      "metadata": {
        "id": "247be3e9"
      },
      "source": [
        "## Exercise 10: Match a word at the beginning of a string"
      ]
    },
    {
      "cell_type": "code",
      "execution_count": 10,
      "id": "f18983b9",
      "metadata": {
        "id": "f18983b9",
        "outputId": "aff5ba2d-88df-4a10-f2ce-5ee2a1e3f4c3",
        "colab": {
          "base_uri": "https://localhost:8080/"
        }
      },
      "outputs": [
        {
          "output_type": "stream",
          "name": "stdout",
          "text": [
            "True\n",
            "False\n"
          ]
        }
      ],
      "source": [
        "def match_word_start(input_string, word):\n",
        "    pattern = r'^' + word\n",
        "    if re.match(pattern, input_string):\n",
        "        return True\n",
        "    return False\n",
        "\n",
        "# Example usage\n",
        "print(match_word_start(\"Hello there\", \"Hello\"))  # True\n",
        "print(match_word_start(\"Goodbye there\", \"Hello\"))  # False"
      ]
    },
    {
      "cell_type": "markdown",
      "id": "95c51ec7",
      "metadata": {
        "id": "95c51ec7"
      },
      "source": [
        "## Exercise 11: Match a word at the end of a string with optional punctuation"
      ]
    },
    {
      "cell_type": "code",
      "execution_count": 11,
      "id": "33efa255",
      "metadata": {
        "id": "33efa255",
        "outputId": "730d8402-ea50-4730-9461-a4eac9d757c3",
        "colab": {
          "base_uri": "https://localhost:8080/"
        }
      },
      "outputs": [
        {
          "output_type": "stream",
          "name": "stdout",
          "text": [
            "True\n",
            "True\n",
            "False\n"
          ]
        }
      ],
      "source": [
        "def match_word_end(input_string, word):\n",
        "    pattern = r'\\b' + word + r'[.!?]?$'\n",
        "    if re.match(pattern, input_string):\n",
        "        return True\n",
        "    return False\n",
        "\n",
        "# Example usage\n",
        "print(match_word_end(\"Hello!\", \"Hello\"))  # True\n",
        "print(match_word_end(\"Hello.\", \"Hello\"))  # True\n",
        "print(match_word_end(\"Goodbye\", \"Hello\"))  # False"
      ]
    },
    {
      "cell_type": "markdown",
      "id": "804623f7",
      "metadata": {
        "id": "804623f7"
      },
      "source": [
        "## Exercise 12: Match a word containing 'z'"
      ]
    },
    {
      "cell_type": "code",
      "execution_count": 12,
      "id": "40560f43",
      "metadata": {
        "id": "40560f43",
        "outputId": "52c8c73a-088d-466e-c3ec-5c40f0c78c06",
        "colab": {
          "base_uri": "https://localhost:8080/"
        }
      },
      "outputs": [
        {
          "output_type": "stream",
          "name": "stdout",
          "text": [
            "['pizza', 'zebra']\n"
          ]
        }
      ],
      "source": [
        "def match_z_in_word(input_string):\n",
        "    pattern = r'\\b\\w*z\\w*\\b'\n",
        "    return re.findall(pattern, input_string)\n",
        "\n",
        "# Example usage\n",
        "print(match_z_in_word(\"pizza zebra\"))  # ['pizza', 'zebra']"
      ]
    },
    {
      "cell_type": "markdown",
      "id": "72e4a5eb",
      "metadata": {
        "id": "72e4a5eb"
      },
      "source": [
        "## Exercise 13: Match a word containing 'z', not at the start or end of the word"
      ]
    },
    {
      "cell_type": "code",
      "execution_count": 13,
      "id": "17a054e2",
      "metadata": {
        "id": "17a054e2",
        "outputId": "553a4693-e9fc-4167-ae14-faec91242d41",
        "colab": {
          "base_uri": "https://localhost:8080/"
        }
      },
      "outputs": [
        {
          "output_type": "stream",
          "name": "stdout",
          "text": [
            "[]\n"
          ]
        }
      ],
      "source": [
        "def match_z_middle(input_string):\n",
        "    pattern = r'\\b\\w*z\\w*\\b'\n",
        "    words = re.findall(pattern, input_string)\n",
        "    return [word for word in words if word[0] != 'z' and word[-1] != 'z']\n",
        "\n",
        "# Example usage\n",
        "print(match_z_middle(\"pizzazz zebra\"))  # ['pizzazz']"
      ]
    },
    {
      "cell_type": "markdown",
      "id": "132373ec",
      "metadata": {
        "id": "132373ec"
      },
      "source": [
        "## Exercise 14: Match a string that contains only upper and lowercase letters, numbers, and underscores"
      ]
    },
    {
      "cell_type": "code",
      "execution_count": 14,
      "id": "83b0ffd2",
      "metadata": {
        "id": "83b0ffd2",
        "outputId": "3a747dab-e868-434b-ec27-9f4bc1090cb1",
        "colab": {
          "base_uri": "https://localhost:8080/"
        }
      },
      "outputs": [
        {
          "output_type": "stream",
          "name": "stdout",
          "text": [
            "True\n",
            "False\n"
          ]
        }
      ],
      "source": [
        "def match_valid_string(input_string):\n",
        "    pattern = r'^[a-zA-Z0-9_]+$'\n",
        "    if re.match(pattern, input_string):\n",
        "        return True\n",
        "    return False\n",
        "\n",
        "# Example usage\n",
        "print(match_valid_string(\"Valid_123\"))  # True\n",
        "print(match_valid_string(\"Invalid-123\"))  # False"
      ]
    },
    {
      "cell_type": "markdown",
      "id": "1db838fe",
      "metadata": {
        "id": "1db838fe"
      },
      "source": [
        "## Exercise 15: Match a string that starts with a specific number"
      ]
    },
    {
      "cell_type": "code",
      "execution_count": 15,
      "id": "643193aa",
      "metadata": {
        "id": "643193aa",
        "outputId": "61a6fe57-4572-4210-d037-4ab178b055d4",
        "colab": {
          "base_uri": "https://localhost:8080/"
        }
      },
      "outputs": [
        {
          "output_type": "stream",
          "name": "stdout",
          "text": [
            "True\n"
          ]
        }
      ],
      "source": [
        "def match_number_start(input_string, number):\n",
        "    pattern = r'^' + str(number)\n",
        "    if re.match(pattern, input_string):\n",
        "        return True\n",
        "    return False\n",
        "\n",
        "# Example usage\n",
        "print(match_number_start(\"123Hello\", 123))  # True"
      ]
    },
    {
      "cell_type": "markdown",
      "id": "7117a854",
      "metadata": {
        "id": "7117a854"
      },
      "source": [
        "## Exercise 16: Remove leading zeros from an IP address"
      ]
    },
    {
      "cell_type": "code",
      "execution_count": 16,
      "id": "8be4ae94",
      "metadata": {
        "id": "8be4ae94",
        "outputId": "6aaabc6f-7bd2-4762-f792-415896720d68",
        "colab": {
          "base_uri": "https://localhost:8080/"
        }
      },
      "outputs": [
        {
          "output_type": "stream",
          "name": "stdout",
          "text": [
            "192.168.1.1\n"
          ]
        }
      ],
      "source": [
        "def remove_leading_zeros(ip_address):\n",
        "    return '.'.join(str(int(x)) for x in ip_address.split('.'))\n",
        "\n",
        "# Example usage\n",
        "print(remove_leading_zeros(\"192.168.01.001\"))  # '192.168.1.1'"
      ]
    },
    {
      "cell_type": "markdown",
      "id": "d024bf64",
      "metadata": {
        "id": "d024bf64"
      },
      "source": [
        "## Exercise 17: Check for a number at the end of a string"
      ]
    },
    {
      "cell_type": "code",
      "execution_count": 17,
      "id": "d37df0c7",
      "metadata": {
        "id": "d37df0c7",
        "outputId": "d0195d42-e023-46ef-8077-c0090131d8b6",
        "colab": {
          "base_uri": "https://localhost:8080/"
        }
      },
      "outputs": [
        {
          "output_type": "stream",
          "name": "stdout",
          "text": [
            "True\n",
            "False\n"
          ]
        }
      ],
      "source": [
        "def check_number_end(input_string):\n",
        "    pattern = r'\\d+$'\n",
        "    if re.search(pattern, input_string):\n",
        "        return True\n",
        "    return False\n",
        "\n",
        "# Example usage\n",
        "print(check_number_end(\"Hello123\"))  # True\n",
        "print(check_number_end(\"Hello\"))  # False"
      ]
    },
    {
      "cell_type": "markdown",
      "id": "cb83b010",
      "metadata": {
        "id": "cb83b010"
      },
      "source": [
        "## Exercise 18: Search for numbers (0-9) of length between 1 and 3 in a given string"
      ]
    },
    {
      "cell_type": "code",
      "execution_count": 18,
      "id": "8043f7ba",
      "metadata": {
        "id": "8043f7ba",
        "outputId": "607e0261-937e-4b05-db24-494b8b524731",
        "colab": {
          "base_uri": "https://localhost:8080/"
        }
      },
      "outputs": [
        {
          "output_type": "stream",
          "name": "stdout",
          "text": [
            "['1', '12', '13', '345']\n"
          ]
        }
      ],
      "source": [
        "def search_numbers(input_string):\n",
        "    pattern = r'\\b\\d{1,3}\\b'\n",
        "    return re.findall(pattern, input_string)\n",
        "\n",
        "# Example usage\n",
        "print(search_numbers(\"Exercises number 1, 12, 13, and 345 are important\"))  # ['1', '12', '13', '345']"
      ]
    },
    {
      "cell_type": "markdown",
      "id": "1d05de7f",
      "metadata": {
        "id": "1d05de7f"
      },
      "source": [
        "## Exercise 19: Search for literal strings within a string"
      ]
    },
    {
      "cell_type": "code",
      "execution_count": 19,
      "id": "5b434f08",
      "metadata": {
        "id": "5b434f08",
        "outputId": "55478d7f-57f6-4147-e772-5c1ced042cf0",
        "colab": {
          "base_uri": "https://localhost:8080/"
        }
      },
      "outputs": [
        {
          "output_type": "stream",
          "name": "stdout",
          "text": [
            "['fox', 'dog']\n"
          ]
        }
      ],
      "source": [
        "def search_literal_strings(input_string, words):\n",
        "    found = []\n",
        "    for word in words:\n",
        "        if word in input_string:\n",
        "            found.append(word)\n",
        "    return found\n",
        "\n",
        "# Example usage\n",
        "print(search_literal_strings(\"The quick brown fox jumps over the lazy dog.\", ['fox', 'dog', 'horse']))  # ['fox', 'dog']"
      ]
    },
    {
      "cell_type": "markdown",
      "id": "4b621952",
      "metadata": {
        "id": "4b621952"
      },
      "source": [
        "## Exercise 20: Search for a literal string in a string and also find the location within the original string where the pattern occurs"
      ]
    },
    {
      "cell_type": "code",
      "execution_count": 20,
      "id": "25efd0d1",
      "metadata": {
        "id": "25efd0d1",
        "outputId": "11c6372a-fba8-417d-e9c5-1564c870d57f",
        "colab": {
          "base_uri": "https://localhost:8080/"
        }
      },
      "outputs": [
        {
          "output_type": "stream",
          "name": "stdout",
          "text": [
            "[('fox', 16)]\n"
          ]
        }
      ],
      "source": [
        "def search_with_location(input_string, word):\n",
        "    pattern = re.compile(word)\n",
        "    matches = pattern.finditer(input_string)\n",
        "    locations = [(match.group(), match.start()) for match in matches]\n",
        "    return locations\n",
        "\n",
        "# Example usage\n",
        "print(search_with_location(\"The quick brown fox jumps over the lazy dog.\", 'fox'))  # [('fox', 16)]"
      ]
    }
  ],
  "metadata": {
    "colab": {
      "provenance": []
    },
    "language_info": {
      "name": "python"
    },
    "kernelspec": {
      "name": "python3",
      "display_name": "Python 3"
    }
  },
  "nbformat": 4,
  "nbformat_minor": 5
}